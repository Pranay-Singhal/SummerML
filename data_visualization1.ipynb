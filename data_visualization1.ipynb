{
  "nbformat": 4,
  "nbformat_minor": 0,
  "metadata": {
    "colab": {
      "name": "data_visualization1.ipynb",
      "version": "0.3.2",
      "provenance": [],
      "include_colab_link": true
    },
    "kernelspec": {
      "name": "python3",
      "display_name": "Python 3"
    }
  },
  "cells": [
    {
      "cell_type": "markdown",
      "metadata": {
        "id": "view-in-github",
        "colab_type": "text"
      },
      "source": [
        "<a href=\"https://colab.research.google.com/github/Pranay-Singhal/SummerML/blob/Data_Processing/data_visualization1.ipynb\" target=\"_parent\"><img src=\"https://colab.research.google.com/assets/colab-badge.svg\" alt=\"Open In Colab\"/></a>"
      ]
    },
    {
      "cell_type": "code",
      "metadata": {
        "id": "2Xl5KvJSe_fT",
        "colab_type": "code",
        "colab": {}
      },
      "source": [
        "import matplotlib.pyplot as plt\n",
        "import pandas as pd"
      ],
      "execution_count": 0,
      "outputs": []
    },
    {
      "cell_type": "code",
      "metadata": {
        "id": "q_-aKNwnfbSH",
        "colab_type": "code",
        "colab": {}
      },
      "source": [
        "df=pd.read_csv(\"student.csv\")"
      ],
      "execution_count": 0,
      "outputs": []
    },
    {
      "cell_type": "code",
      "metadata": {
        "id": "eQAZjpTXfvUk",
        "colab_type": "code",
        "colab": {
          "base_uri": "https://localhost:8080/",
          "height": 187
        },
        "outputId": "a8f68b1b-1bf6-4ebc-a854-b03506c41234"
      },
      "source": [
        "df.info()"
      ],
      "execution_count": 3,
      "outputs": [
        {
          "output_type": "stream",
          "text": [
            "<class 'pandas.core.frame.DataFrame'>\n",
            "RangeIndex: 4 entries, 0 to 3\n",
            "Data columns (total 5 columns):\n",
            "Student_name    4 non-null object\n",
            "Marks           4 non-null int64\n",
            "Age             4 non-null int64\n",
            "Contact         4 non-null int64\n",
            "Study_hours     4 non-null int64\n",
            "dtypes: int64(4), object(1)\n",
            "memory usage: 240.0+ bytes\n"
          ],
          "name": "stdout"
        }
      ]
    },
    {
      "cell_type": "code",
      "metadata": {
        "id": "Y7E56sZafy69",
        "colab_type": "code",
        "colab": {
          "base_uri": "https://localhost:8080/",
          "height": 173
        },
        "outputId": "8149ad93-306f-423a-c0c0-593b914ca584"
      },
      "source": [
        "df"
      ],
      "execution_count": 4,
      "outputs": [
        {
          "output_type": "execute_result",
          "data": {
            "text/html": [
              "<div>\n",
              "<style scoped>\n",
              "    .dataframe tbody tr th:only-of-type {\n",
              "        vertical-align: middle;\n",
              "    }\n",
              "\n",
              "    .dataframe tbody tr th {\n",
              "        vertical-align: top;\n",
              "    }\n",
              "\n",
              "    .dataframe thead th {\n",
              "        text-align: right;\n",
              "    }\n",
              "</style>\n",
              "<table border=\"1\" class=\"dataframe\">\n",
              "  <thead>\n",
              "    <tr style=\"text-align: right;\">\n",
              "      <th></th>\n",
              "      <th>Student_name</th>\n",
              "      <th>Marks</th>\n",
              "      <th>Age</th>\n",
              "      <th>Contact</th>\n",
              "      <th>Study_hours</th>\n",
              "    </tr>\n",
              "  </thead>\n",
              "  <tbody>\n",
              "    <tr>\n",
              "      <th>0</th>\n",
              "      <td>ajay</td>\n",
              "      <td>50</td>\n",
              "      <td>18</td>\n",
              "      <td>9824561205</td>\n",
              "      <td>4</td>\n",
              "    </tr>\n",
              "    <tr>\n",
              "      <th>1</th>\n",
              "      <td>prateek</td>\n",
              "      <td>77</td>\n",
              "      <td>19</td>\n",
              "      <td>8874562103</td>\n",
              "      <td>5</td>\n",
              "    </tr>\n",
              "    <tr>\n",
              "      <th>2</th>\n",
              "      <td>rahul</td>\n",
              "      <td>83</td>\n",
              "      <td>20</td>\n",
              "      <td>7584133960</td>\n",
              "      <td>6</td>\n",
              "    </tr>\n",
              "    <tr>\n",
              "      <th>3</th>\n",
              "      <td>singhal</td>\n",
              "      <td>99</td>\n",
              "      <td>19</td>\n",
              "      <td>9584663012</td>\n",
              "      <td>7</td>\n",
              "    </tr>\n",
              "  </tbody>\n",
              "</table>\n",
              "</div>"
            ],
            "text/plain": [
              "  Student_name  Marks  Age     Contact  Study_hours\n",
              "0         ajay     50   18  9824561205            4\n",
              "1      prateek     77   19  8874562103            5\n",
              "2        rahul     83   20  7584133960            6\n",
              "3      singhal     99   19  9584663012            7"
            ]
          },
          "metadata": {
            "tags": []
          },
          "execution_count": 4
        }
      ]
    },
    {
      "cell_type": "code",
      "metadata": {
        "id": "3J6WyGZOf1HC",
        "colab_type": "code",
        "colab": {
          "base_uri": "https://localhost:8080/",
          "height": 459
        },
        "outputId": "b5bbf9e6-79aa-4726-e949-c43d0b4a4cfe"
      },
      "source": [
        "exp=(0.1,0.1,0.1,0.1)\n",
        "plt.pie(df['Marks'],labels=df['Student_name'],explode=exp,shadow=True,autopct='%1.1f%%')"
      ],
      "execution_count": 5,
      "outputs": [
        {
          "output_type": "execute_result",
          "data": {
            "text/plain": [
              "([<matplotlib.patches.Wedge at 0x7f7850294c18>,\n",
              "  <matplotlib.patches.Wedge at 0x7f78502a55c0>,\n",
              "  <matplotlib.patches.Wedge at 0x7f78502a5f60>,\n",
              "  <matplotlib.patches.Wedge at 0x7f78502b2940>],\n",
              " [Text(1.0482595651000117, 0.5840820868476746, 'ajay'),\n",
              "  Text(-0.27212015838120346, 1.1687389012960034, 'prateek'),\n",
              "  Text(-1.151703554460012, -0.33701472170244157, 'rahul'),\n",
              "  Text(0.6417555514942153, -1.0139772246585994, 'singhal')],\n",
              " [Text(0.61148474630834, 0.3407145506611434, '16.2%'),\n",
              "  Text(-0.158736759055702, 0.6817643590893352, '24.9%'),\n",
              "  Text(-0.671827073435007, -0.19659192099309092, '26.9%'),\n",
              "  Text(0.37435740503829223, -0.591486714384183, '32.0%')])"
            ]
          },
          "metadata": {
            "tags": []
          },
          "execution_count": 5
        },
        {
          "output_type": "display_data",
          "data": {
            "image/png": "[encoded data removed]",
            "text/plain": [
              "<Figure size 432x288 with 1 Axes>"
            ]
          },
          "metadata": {
            "tags": []
          }
        }
      ]
    },
    {
      "cell_type": "code",
      "metadata": {
        "id": "kP9SbYHXnCwM",
        "colab_type": "code",
        "colab": {}
      },
      "source": [
        ""
      ],
      "execution_count": 0,
      "outputs": []
    },
    {
      "cell_type": "code",
      "metadata": {
        "id": "BA3YE3uKgZoz",
        "colab_type": "code",
        "colab": {}
      },
      "source": [
        ""
      ],
      "execution_count": 0,
      "outputs": []
    }
  ]
}